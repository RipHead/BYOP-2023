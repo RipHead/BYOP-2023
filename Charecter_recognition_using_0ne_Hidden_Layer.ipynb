{
  "nbformat": 4,
  "nbformat_minor": 0,
  "metadata": {
    "colab": {
      "provenance": [],
      "authorship_tag": "ABX9TyP9ff0m5zfjQT4Shm0LTpXG",
      "include_colab_link": true
    },
    "kernelspec": {
      "name": "python3",
      "display_name": "Python 3"
    },
    "language_info": {
      "name": "python"
    },
    "widgets": {
      "application/vnd.jupyter.widget-state+json": {
        "521bf05c524e491aa42b14087a82192b": {
          "model_module": "@jupyter-widgets/controls",
          "model_name": "HBoxModel",
          "model_module_version": "1.5.0",
          "state": {
            "_dom_classes": [],
            "_model_module": "@jupyter-widgets/controls",
            "_model_module_version": "1.5.0",
            "_model_name": "HBoxModel",
            "_view_count": null,
            "_view_module": "@jupyter-widgets/controls",
            "_view_module_version": "1.5.0",
            "_view_name": "HBoxView",
            "box_style": "",
            "children": [
              "IPY_MODEL_3ebc42ccca904c5eb36dd61a9c0d42d4",
              "IPY_MODEL_ec1506c9dbcf44e5aef96b877d0c694b",
              "IPY_MODEL_352aef2e3f6e44329384caa69e1d9e61"
            ],
            "layout": "IPY_MODEL_530ef606bc7046c59cc174f3fc948c9d"
          }
        },
        "3ebc42ccca904c5eb36dd61a9c0d42d4": {
          "model_module": "@jupyter-widgets/controls",
          "model_name": "HTMLModel",
          "model_module_version": "1.5.0",
          "state": {
            "_dom_classes": [],
            "_model_module": "@jupyter-widgets/controls",
            "_model_module_version": "1.5.0",
            "_model_name": "HTMLModel",
            "_view_count": null,
            "_view_module": "@jupyter-widgets/controls",
            "_view_module_version": "1.5.0",
            "_view_name": "HTMLView",
            "description": "",
            "description_tooltip": null,
            "layout": "IPY_MODEL_f2faa0f7e2aa4995a2a18e80d9cbed48",
            "placeholder": "​",
            "style": "IPY_MODEL_66ce4bf624dc437d9758d8993bf78575",
            "value": "100%"
          }
        },
        "ec1506c9dbcf44e5aef96b877d0c694b": {
          "model_module": "@jupyter-widgets/controls",
          "model_name": "FloatProgressModel",
          "model_module_version": "1.5.0",
          "state": {
            "_dom_classes": [],
            "_model_module": "@jupyter-widgets/controls",
            "_model_module_version": "1.5.0",
            "_model_name": "FloatProgressModel",
            "_view_count": null,
            "_view_module": "@jupyter-widgets/controls",
            "_view_module_version": "1.5.0",
            "_view_name": "ProgressView",
            "bar_style": "success",
            "description": "",
            "description_tooltip": null,
            "layout": "IPY_MODEL_ddac98927ba54ed6a2d56694919943ae",
            "max": 561753746,
            "min": 0,
            "orientation": "horizontal",
            "style": "IPY_MODEL_93f399d7945f4fc8959a35c6cf4f23b6",
            "value": 561753746
          }
        },
        "352aef2e3f6e44329384caa69e1d9e61": {
          "model_module": "@jupyter-widgets/controls",
          "model_name": "HTMLModel",
          "model_module_version": "1.5.0",
          "state": {
            "_dom_classes": [],
            "_model_module": "@jupyter-widgets/controls",
            "_model_module_version": "1.5.0",
            "_model_name": "HTMLModel",
            "_view_count": null,
            "_view_module": "@jupyter-widgets/controls",
            "_view_module_version": "1.5.0",
            "_view_name": "HTMLView",
            "description": "",
            "description_tooltip": null,
            "layout": "IPY_MODEL_16f3f6fedee14453bea145ac7d9a9b7f",
            "placeholder": "​",
            "style": "IPY_MODEL_ff6fb56b563d449ab6f8542658366d70",
            "value": " 561753746/561753746 [00:05&lt;00:00, 105343645.02it/s]"
          }
        },
        "530ef606bc7046c59cc174f3fc948c9d": {
          "model_module": "@jupyter-widgets/base",
          "model_name": "LayoutModel",
          "model_module_version": "1.2.0",
          "state": {
            "_model_module": "@jupyter-widgets/base",
            "_model_module_version": "1.2.0",
            "_model_name": "LayoutModel",
            "_view_count": null,
            "_view_module": "@jupyter-widgets/base",
            "_view_module_version": "1.2.0",
            "_view_name": "LayoutView",
            "align_content": null,
            "align_items": null,
            "align_self": null,
            "border": null,
            "bottom": null,
            "display": null,
            "flex": null,
            "flex_flow": null,
            "grid_area": null,
            "grid_auto_columns": null,
            "grid_auto_flow": null,
            "grid_auto_rows": null,
            "grid_column": null,
            "grid_gap": null,
            "grid_row": null,
            "grid_template_areas": null,
            "grid_template_columns": null,
            "grid_template_rows": null,
            "height": null,
            "justify_content": null,
            "justify_items": null,
            "left": null,
            "margin": null,
            "max_height": null,
            "max_width": null,
            "min_height": null,
            "min_width": null,
            "object_fit": null,
            "object_position": null,
            "order": null,
            "overflow": null,
            "overflow_x": null,
            "overflow_y": null,
            "padding": null,
            "right": null,
            "top": null,
            "visibility": null,
            "width": null
          }
        },
        "f2faa0f7e2aa4995a2a18e80d9cbed48": {
          "model_module": "@jupyter-widgets/base",
          "model_name": "LayoutModel",
          "model_module_version": "1.2.0",
          "state": {
            "_model_module": "@jupyter-widgets/base",
            "_model_module_version": "1.2.0",
            "_model_name": "LayoutModel",
            "_view_count": null,
            "_view_module": "@jupyter-widgets/base",
            "_view_module_version": "1.2.0",
            "_view_name": "LayoutView",
            "align_content": null,
            "align_items": null,
            "align_self": null,
            "border": null,
            "bottom": null,
            "display": null,
            "flex": null,
            "flex_flow": null,
            "grid_area": null,
            "grid_auto_columns": null,
            "grid_auto_flow": null,
            "grid_auto_rows": null,
            "grid_column": null,
            "grid_gap": null,
            "grid_row": null,
            "grid_template_areas": null,
            "grid_template_columns": null,
            "grid_template_rows": null,
            "height": null,
            "justify_content": null,
            "justify_items": null,
            "left": null,
            "margin": null,
            "max_height": null,
            "max_width": null,
            "min_height": null,
            "min_width": null,
            "object_fit": null,
            "object_position": null,
            "order": null,
            "overflow": null,
            "overflow_x": null,
            "overflow_y": null,
            "padding": null,
            "right": null,
            "top": null,
            "visibility": null,
            "width": null
          }
        },
        "66ce4bf624dc437d9758d8993bf78575": {
          "model_module": "@jupyter-widgets/controls",
          "model_name": "DescriptionStyleModel",
          "model_module_version": "1.5.0",
          "state": {
            "_model_module": "@jupyter-widgets/controls",
            "_model_module_version": "1.5.0",
            "_model_name": "DescriptionStyleModel",
            "_view_count": null,
            "_view_module": "@jupyter-widgets/base",
            "_view_module_version": "1.2.0",
            "_view_name": "StyleView",
            "description_width": ""
          }
        },
        "ddac98927ba54ed6a2d56694919943ae": {
          "model_module": "@jupyter-widgets/base",
          "model_name": "LayoutModel",
          "model_module_version": "1.2.0",
          "state": {
            "_model_module": "@jupyter-widgets/base",
            "_model_module_version": "1.2.0",
            "_model_name": "LayoutModel",
            "_view_count": null,
            "_view_module": "@jupyter-widgets/base",
            "_view_module_version": "1.2.0",
            "_view_name": "LayoutView",
            "align_content": null,
            "align_items": null,
            "align_self": null,
            "border": null,
            "bottom": null,
            "display": null,
            "flex": null,
            "flex_flow": null,
            "grid_area": null,
            "grid_auto_columns": null,
            "grid_auto_flow": null,
            "grid_auto_rows": null,
            "grid_column": null,
            "grid_gap": null,
            "grid_row": null,
            "grid_template_areas": null,
            "grid_template_columns": null,
            "grid_template_rows": null,
            "height": null,
            "justify_content": null,
            "justify_items": null,
            "left": null,
            "margin": null,
            "max_height": null,
            "max_width": null,
            "min_height": null,
            "min_width": null,
            "object_fit": null,
            "object_position": null,
            "order": null,
            "overflow": null,
            "overflow_x": null,
            "overflow_y": null,
            "padding": null,
            "right": null,
            "top": null,
            "visibility": null,
            "width": null
          }
        },
        "93f399d7945f4fc8959a35c6cf4f23b6": {
          "model_module": "@jupyter-widgets/controls",
          "model_name": "ProgressStyleModel",
          "model_module_version": "1.5.0",
          "state": {
            "_model_module": "@jupyter-widgets/controls",
            "_model_module_version": "1.5.0",
            "_model_name": "ProgressStyleModel",
            "_view_count": null,
            "_view_module": "@jupyter-widgets/base",
            "_view_module_version": "1.2.0",
            "_view_name": "StyleView",
            "bar_color": null,
            "description_width": ""
          }
        },
        "16f3f6fedee14453bea145ac7d9a9b7f": {
          "model_module": "@jupyter-widgets/base",
          "model_name": "LayoutModel",
          "model_module_version": "1.2.0",
          "state": {
            "_model_module": "@jupyter-widgets/base",
            "_model_module_version": "1.2.0",
            "_model_name": "LayoutModel",
            "_view_count": null,
            "_view_module": "@jupyter-widgets/base",
            "_view_module_version": "1.2.0",
            "_view_name": "LayoutView",
            "align_content": null,
            "align_items": null,
            "align_self": null,
            "border": null,
            "bottom": null,
            "display": null,
            "flex": null,
            "flex_flow": null,
            "grid_area": null,
            "grid_auto_columns": null,
            "grid_auto_flow": null,
            "grid_auto_rows": null,
            "grid_column": null,
            "grid_gap": null,
            "grid_row": null,
            "grid_template_areas": null,
            "grid_template_columns": null,
            "grid_template_rows": null,
            "height": null,
            "justify_content": null,
            "justify_items": null,
            "left": null,
            "margin": null,
            "max_height": null,
            "max_width": null,
            "min_height": null,
            "min_width": null,
            "object_fit": null,
            "object_position": null,
            "order": null,
            "overflow": null,
            "overflow_x": null,
            "overflow_y": null,
            "padding": null,
            "right": null,
            "top": null,
            "visibility": null,
            "width": null
          }
        },
        "ff6fb56b563d449ab6f8542658366d70": {
          "model_module": "@jupyter-widgets/controls",
          "model_name": "DescriptionStyleModel",
          "model_module_version": "1.5.0",
          "state": {
            "_model_module": "@jupyter-widgets/controls",
            "_model_module_version": "1.5.0",
            "_model_name": "DescriptionStyleModel",
            "_view_count": null,
            "_view_module": "@jupyter-widgets/base",
            "_view_module_version": "1.2.0",
            "_view_name": "StyleView",
            "description_width": ""
          }
        }
      }
    }
  },
  "cells": [
    {
      "cell_type": "markdown",
      "metadata": {
        "id": "view-in-github",
        "colab_type": "text"
      },
      "source": [
        "<a href=\"https://colab.research.google.com/github/RipHead/BYOP-2023/blob/main/Charecter_recognition_using_0ne_Hidden_Layer.ipynb\" target=\"_parent\"><img src=\"https://colab.research.google.com/assets/colab-badge.svg\" alt=\"Open In Colab\"/></a>"
      ]
    },
    {
      "cell_type": "code",
      "execution_count": null,
      "metadata": {
        "colab": {
          "base_uri": "https://localhost:8080/",
          "height": 84,
          "referenced_widgets": [
            "521bf05c524e491aa42b14087a82192b",
            "3ebc42ccca904c5eb36dd61a9c0d42d4",
            "ec1506c9dbcf44e5aef96b877d0c694b",
            "352aef2e3f6e44329384caa69e1d9e61",
            "530ef606bc7046c59cc174f3fc948c9d",
            "f2faa0f7e2aa4995a2a18e80d9cbed48",
            "66ce4bf624dc437d9758d8993bf78575",
            "ddac98927ba54ed6a2d56694919943ae",
            "93f399d7945f4fc8959a35c6cf4f23b6",
            "16f3f6fedee14453bea145ac7d9a9b7f",
            "ff6fb56b563d449ab6f8542658366d70"
          ]
        },
        "id": "0M5aAGufCRkG",
        "outputId": "1d94b44b-c73e-4daf-c249-44b67f30d764"
      },
      "outputs": [
        {
          "output_type": "stream",
          "name": "stdout",
          "text": [
            "Downloading https://www.itl.nist.gov/iaui/vip/cs_links/EMNIST/gzip.zip to data/EMNIST/raw/gzip.zip\n"
          ]
        },
        {
          "output_type": "display_data",
          "data": {
            "text/plain": [
              "  0%|          | 0/561753746 [00:00<?, ?it/s]"
            ],
            "application/vnd.jupyter.widget-view+json": {
              "version_major": 2,
              "version_minor": 0,
              "model_id": "521bf05c524e491aa42b14087a82192b"
            }
          },
          "metadata": {}
        },
        {
          "output_type": "stream",
          "name": "stdout",
          "text": [
            "Extracting data/EMNIST/raw/gzip.zip to data/EMNIST/raw\n"
          ]
        }
      ],
      "source": [
        "import torch\n",
        "import torchvision\n",
        "from torchvision.datasets import EMNIST\n",
        "import torchvision.transforms as transforms\n",
        "\n",
        "# Downloading dataset with 62 charecters\n",
        "dataset = EMNIST(root = 'data/', split = 'byclass', download = True, transform = transforms.ToTensor())"
      ]
    },
    {
      "cell_type": "code",
      "source": [
        "# dataset downloaded and images are converted to tensors\n",
        "len(dataset)\n"
      ],
      "metadata": {
        "colab": {
          "base_uri": "https://localhost:8080/"
        },
        "id": "GPqJZFtcDqX3",
        "outputId": "d43315bc-e56e-4a12-8fdc-42e3e176de35"
      },
      "execution_count": null,
      "outputs": [
        {
          "output_type": "execute_result",
          "data": {
            "text/plain": [
              "697932"
            ]
          },
          "metadata": {},
          "execution_count": 44
        }
      ]
    },
    {
      "cell_type": "code",
      "source": [
        "import torch.nn as nn\n",
        "import torch.nn.functional as F\n",
        "from torch.utils.data import DataLoader\n",
        "from torch.utils.data import random_split\n",
        "\n"
      ],
      "metadata": {
        "id": "ozc_WWXQD0Hz"
      },
      "execution_count": null,
      "outputs": []
    },
    {
      "cell_type": "markdown",
      "source": [
        "following standard procedure to load data/ split the data into different batches"
      ],
      "metadata": {
        "id": "AVsdTS1qGDfh"
      }
    },
    {
      "cell_type": "code",
      "source": [
        "train_ds, val_ds = random_split(dataset, [600000, 97932])\n",
        "batch_size = 100\n",
        "train_dl = DataLoader(train_ds, batch_size, shuffle = True )\n",
        "val_dl = DataLoader(val_ds, batch_size)"
      ],
      "metadata": {
        "id": "93SXgwn8ENeJ"
      },
      "execution_count": null,
      "outputs": []
    },
    {
      "cell_type": "code",
      "source": [
        "in_size = 28*28\n",
        "out_size = 62\n",
        "\n"
      ],
      "metadata": {
        "id": "bQPztzCVFMv7"
      },
      "execution_count": null,
      "outputs": []
    },
    {
      "cell_type": "code",
      "source": [
        "def accuracy(out, labels):\n",
        "  _, preds = torch.max(out, dim = 1)\n",
        "  return torch.tensor(torch.sum(preds == labels).item()/len(labels))"
      ],
      "metadata": {
        "id": "Fst3whnwOCSt"
      },
      "execution_count": null,
      "outputs": []
    },
    {
      "cell_type": "markdown",
      "source": [
        "creating model class with 1 hidden layer"
      ],
      "metadata": {
        "id": "KmsqNteRGSyT"
      }
    },
    {
      "cell_type": "code",
      "source": [
        "class MyModel(nn.Module):\n",
        "  def __init__(self, hidden_size):\n",
        "    super().__init__()\n",
        "    self.layer1 = nn.Linear(in_size, hidden_size)\n",
        "    self.layer2 = nn.Linear(hidden_size, out_size)\n",
        "  def forward(self, xb):\n",
        "    xb = xb.view(xb.size(0), in_size)\n",
        "    out1 = self.layer1(xb)\n",
        "    out2 = F.relu(out1)\n",
        "    out3 = self.layer2(out2)\n",
        "    return out3\n",
        "  def training_step(self, batch):\n",
        "    images, labels = batch\n",
        "    out = self(images)\n",
        "    loss = F.cross_entropy(out, labels)\n",
        "    return loss\n",
        "  def validation_step(self, batch):\n",
        "    images, labels = batch\n",
        "    out = self(images)\n",
        "    acc = accuracy(out, labels)\n",
        "    loss = F.cross_entropy(out, labels)\n",
        "    return {'val_loss': loss, 'val_acc': acc}\n",
        "  def validation_epoch_end(self, output):\n",
        "    batch_losses = [x['val_loss'] for x in output]\n",
        "    batch_accs = [x['val_acc'] for x in output]\n",
        "    epoch_acc = torch.stack(batch_accs).mean()\n",
        "    epoch_loss = torch.stack(batch_losses).mean()\n",
        "    return {'val_acc': epoch_acc.item(), 'val_loss': epoch_loss.item()}\n",
        "  def epoch_end(self, epoch, result):\n",
        "    print(\"Epoch: {}, acc==>{}, loss==>{}\".format(epoch+1, result['val_acc'], result['val_loss']))\n",
        "  \n",
        "model = MyModel(124)"
      ],
      "metadata": {
        "id": "W1v3qubQFV4q"
      },
      "execution_count": null,
      "outputs": []
    },
    {
      "cell_type": "code",
      "source": [
        "def evaluate(model, val_dl):\n",
        "  output = [model.validation_step(batch) for batch in  val_dl]\n",
        "  return model.validation_epoch_end(output)"
      ],
      "metadata": {
        "id": "jkp2NqHRMLgu"
      },
      "execution_count": null,
      "outputs": []
    },
    {
      "cell_type": "code",
      "source": [
        "import matplotlib.pyplot as plt\n",
        "%matplotlib inline"
      ],
      "metadata": {
        "id": "Az-ngMk7Q2ks"
      },
      "execution_count": null,
      "outputs": []
    },
    {
      "cell_type": "code",
      "source": [
        "def fit(num_epochs, lr, model, train_dl, val_dl, opt_func = torch.optim.SGD):\n",
        "  optimizer = opt_func(model.parameters(), lr)\n",
        "  x = []\n",
        "  y = []\n",
        "  for epoch in range(num_epochs):\n",
        "    for batch in train_dl:\n",
        "      loss = model.training_step(batch)\n",
        "      loss.backward()\n",
        "      optimizer.step()\n",
        "      optimizer.zero_grad()\n",
        "    result = evaluate(model, val_dl)\n",
        "    model.epoch_end(epoch, result)\n",
        "    x.append(epoch+1)\n",
        "    y.append(result['val_acc']*100)\n",
        "  plt.plot(x,y)\n",
        "  plt.xlabel(\"epochs\")\n",
        "  plt.ylabel(\"accuracy in %\")\n",
        "  plt.show()\n"
      ],
      "metadata": {
        "id": "yY2tpZ26HyOg"
      },
      "execution_count": null,
      "outputs": []
    },
    {
      "cell_type": "code",
      "source": [
        "fit(10, 0.001, model, train_dl, val_dl)"
      ],
      "metadata": {
        "colab": {
          "base_uri": "https://localhost:8080/",
          "height": 453
        },
        "id": "0ikT1x2sRbHl",
        "outputId": "84f83d2a-9279-43ad-9f31-0e312c7ec468"
      },
      "execution_count": null,
      "outputs": [
        {
          "output_type": "stream",
          "name": "stdout",
          "text": [
            "Epoch: 1, acc==>0.4176543354988098, loss==>2.8104500770568848\n",
            "Epoch: 2, acc==>0.49652552604675293, loss==>2.1698522567749023\n",
            "Epoch: 3, acc==>0.5531798601150513, loss==>1.845292568206787\n",
            "Epoch: 4, acc==>0.587182343006134, loss==>1.6509335041046143\n",
            "Epoch: 5, acc==>0.6075408458709717, loss==>1.5239187479019165\n",
            "Epoch: 6, acc==>0.6218673586845398, loss==>1.4349976778030396\n",
            "Epoch: 7, acc==>0.6350816488265991, loss==>1.3692940473556519\n",
            "Epoch: 8, acc==>0.6446938514709473, loss==>1.3189949989318848\n",
            "Epoch: 9, acc==>0.6531632542610168, loss==>1.278705358505249\n",
            "Epoch: 10, acc==>0.6608992218971252, loss==>1.2461556196212769\n"
          ]
        },
        {
          "output_type": "display_data",
          "data": {
            "text/plain": [
              "<Figure size 432x288 with 1 Axes>"
            ],
            "image/png": "[encoded data removed]"
          },
          "metadata": {
            "needs_background": "light"
          }
        }
      ]
    },
    {
      "cell_type": "code",
      "source": [],
      "metadata": {
        "id": "HqXV1xolZkCe"
      },
      "execution_count": null,
      "outputs": []
    }
  ]
}